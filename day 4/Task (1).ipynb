{
 "cells": [
  {
   "cell_type": "code",
   "execution_count": 1,
   "id": "9a10fc09-b101-4521-83a7-a3367bfecc28",
   "metadata": {},
   "outputs": [
    {
     "data": {
      "text/plain": [
       "array([40.68516194, 38.78534328, 42.89189273, 41.83901332, 46.05218312,\n",
       "       46.13423996, 43.77029336, 46.36499226, 38.35368496, 39.35398494,\n",
       "       45.57678991, 39.22277896, 39.33492164, 42.29558719, 42.16256345,\n",
       "       42.23851141, 40.33116839, 43.59183639, 42.88542732, 39.72485983])"
      ]
     },
     "execution_count": 1,
     "metadata": {},
     "output_type": "execute_result"
    }
   ],
   "source": [
    "import numpy as np\n",
    "import pandas as pd\n",
    "import matplotlib.pyplot as plt\n",
    "from sklearn.model_selection import train_test_split\n",
    "from sklearn.linear_model import LinearRegression\n",
    "from sklearn.metrics import r2_score\n",
    "data = {\n",
    "    'X': np.random.rand(100) * 10,  \n",
    "    'Y': np.random.rand(100) * 50 + 20 \n",
    "}\n",
    "df = pd.DataFrame(data)\n",
    "X = df[['X']]\n",
    "y = df['Y']\n",
    "X_train, X_test, y_train, y_test = train_test_split(X, y, test_size=0.2, random_state=42)\n",
    "model = LinearRegression()\n",
    "model.fit(X_train, y_train)\n",
    "y_pred = model.predict(X_test)\n",
    "y_pred"
   ]
  }
 ],
 "metadata": {
  "kernelspec": {
   "display_name": "Python 3 (myenv)",
   "language": "python",
   "name": "myenv"
  },
  "language_info": {
   "codemirror_mode": {
    "name": "ipython",
    "version": 3
   },
   "file_extension": ".py",
   "mimetype": "text/x-python",
   "name": "python",
   "nbconvert_exporter": "python",
   "pygments_lexer": "ipython3",
   "version": "3.12.4"
  }
 },
 "nbformat": 4,
 "nbformat_minor": 5
}
