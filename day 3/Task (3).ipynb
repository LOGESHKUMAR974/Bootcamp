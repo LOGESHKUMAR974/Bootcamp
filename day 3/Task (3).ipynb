{
 "cells": [
  {
   "cell_type": "code",
   "execution_count": 9,
   "id": "dece1766",
   "metadata": {},
   "outputs": [
    {
     "name": "stdout",
     "output_type": "stream",
     "text": [
      "Tom is playnig\n",
      "Tom is barking\n",
      "Tom is sleeping\n"
     ]
    }
   ],
   "source": [
    "class dog:\n",
    "    def bark(self):\n",
    "        print(f\"{self.name} is barking\")\n",
    "    def sleep(self):\n",
    "        print(f\"{self.name} is sleeping\")\n",
    "    def __init__(self, name, age):\n",
    "        self.name = name\n",
    "        self.age = age\n",
    "\n",
    "class puppy(dog):\n",
    "    def play(self):\n",
    "        print(f\"{self.name} is playnig\")\n",
    "\n",
    "\n",
    "            \n",
    "dog1 = puppy(\"Tom\",3)\n",
    "\n",
    "dog1.play()\n",
    "dog1.bark()\n",
    "dog1.sleep()"
   ]
  }
 ],
 "metadata": {
  "kernelspec": {
   "display_name": "Python 3",
   "language": "python",
   "name": "python3"
  },
  "language_info": {
   "codemirror_mode": {
    "name": "ipython",
    "version": 3
   },
   "file_extension": ".py",
   "mimetype": "text/x-python",
   "name": "python",
   "nbconvert_exporter": "python",
   "pygments_lexer": "ipython3",
   "version": "3.10.11"
  }
 },
 "nbformat": 4,
 "nbformat_minor": 5
}
